{
 "cells": [
  {
   "cell_type": "code",
   "execution_count": 14,
   "id": "50b891d8",
   "metadata": {},
   "outputs": [],
   "source": [
    "import pandas as pd\n",
    "import numpy as np\n",
    "from sklearn.linear_model import Lasso"
   ]
  },
  {
   "cell_type": "code",
   "execution_count": 15,
   "id": "a17afe19",
   "metadata": {},
   "outputs": [],
   "source": [
    "# list of filenames\n",
    "filenames = ['clinical_check1.csv', 'clinical_check2.csv', 'clinical_check3.csv', 'clinical_check4.csv', 'clinical_check5.csv', 'clinical_check6.csv', 'clinical_check7.csv', \n",
    "             'clinical_check8.csv', 'clinical_check9.csv', 'clinical_check10.csv']\n",
    "\n",
    "# list of DataFrames\n",
    "files = []\n",
    "\n",
    "# read each CSV file into a DataFrame and append it to the list of DataFrames\n",
    "for filename in filenames:\n",
    "    df = pd.read_csv(filename)\n",
    "    files.append(df)"
   ]
  },
  {
   "cell_type": "code",
   "execution_count": 16,
   "id": "7cc85a36",
   "metadata": {},
   "outputs": [],
   "source": [
    "# list of sets of column names\n",
    "cols_list = []\n",
    "\n",
    "# extract the set of column names for each DataFrame and append it to the list of sets\n",
    "for df in files:\n",
    "    df.drop(columns='Class Label')\n",
    "    cols = set(df.columns)\n",
    "    cols_list.append(cols)"
   ]
  },
  {
   "cell_type": "code",
   "execution_count": 17,
   "id": "9074fbf2",
   "metadata": {},
   "outputs": [
    {
     "name": "stdout",
     "output_type": "stream",
     "text": [
      "{'abs_lymph_7_cat', 'Acuity_max', 'Class Label', 'Unnamed: 0', 'Acuity_7'}\n"
     ]
    }
   ],
   "source": [
    "print(cols_list[0])"
   ]
  },
  {
   "cell_type": "code",
   "execution_count": 18,
   "id": "f6bae761",
   "metadata": {},
   "outputs": [],
   "source": [
    "import collections\n",
    "map1 = collections.defaultdict(int)"
   ]
  },
  {
   "cell_type": "code",
   "execution_count": 19,
   "id": "32a75893",
   "metadata": {},
   "outputs": [],
   "source": [
    "for x in cols_list :\n",
    "    for i in x:\n",
    "        map1[i]+=1"
   ]
  },
  {
   "cell_type": "code",
   "execution_count": 20,
   "id": "63486db2",
   "metadata": {},
   "outputs": [
    {
     "name": "stdout",
     "output_type": "stream",
     "text": [
      "abs_lymph_7_cat 9\n",
      "Acuity_max 10\n",
      "Class Label 10\n",
      "Unnamed: 0 10\n",
      "Acuity_7 10\n",
      "crp_3_cat 9\n",
      "abs_mono_7_cat 4\n",
      "abs_lymph_3_cat 5\n",
      "abs_neut_7_cat 8\n",
      "Age_cat 6\n",
      "abs_neut_3_cat 5\n",
      "creat_3_cat 5\n",
      "ddimer_7_cat 3\n",
      "LUNG 2\n",
      "Acuity_0 4\n",
      "ldh_7_cat 2\n",
      "abs_neut_0_cat 2\n",
      "Fever_Sympt 2\n",
      "creat_0_cat 3\n",
      "ddimer_3_cat 2\n",
      "crp_0_cat 3\n",
      "GI_Symp 2\n",
      "ddimer_0_cat 3\n",
      "crp_7_cat 3\n",
      "abs_mono_0_cat 2\n",
      "ldh_0_cat 4\n",
      "creat_7_cat 4\n",
      "BMI_cat 3\n",
      "Acuity_3 1\n",
      "DIABETES 1\n",
      "Trop_72h 1\n",
      "ldh_3_cat 1\n",
      "HTN 1\n",
      "abs_lymph_0_cat 1\n"
     ]
    }
   ],
   "source": [
    "for y in map1:\n",
    "    print(y,map1[y])"
   ]
  },
  {
   "cell_type": "code",
   "execution_count": 21,
   "id": "b7402e4b",
   "metadata": {},
   "outputs": [
    {
     "name": "stdout",
     "output_type": "stream",
     "text": [
      "abs_lymph_7_cat 9\n",
      "Acuity_max 10\n",
      "Class Label 10\n",
      "Unnamed: 0 10\n",
      "Acuity_7 10\n",
      "crp_3_cat 9\n",
      "abs_mono_7_cat 4\n",
      "abs_lymph_3_cat 5\n",
      "abs_neut_7_cat 8\n",
      "Age_cat 6\n",
      "abs_neut_3_cat 5\n",
      "creat_3_cat 5\n",
      "ddimer_7_cat 3\n",
      "Acuity_0 4\n",
      "creat_0_cat 3\n",
      "crp_0_cat 3\n",
      "ddimer_0_cat 3\n",
      "crp_7_cat 3\n",
      "ldh_0_cat 4\n",
      "creat_7_cat 4\n",
      "BMI_cat 3\n"
     ]
    }
   ],
   "source": [
    "size = len(filenames)\n",
    "sz = int(size/2)\n",
    "for x in map1:\n",
    "    if map1[x] >= sz-2:\n",
    "        print(x,map1[x])"
   ]
  },
  {
   "cell_type": "code",
   "execution_count": null,
   "id": "36ee5a9f",
   "metadata": {},
   "outputs": [],
   "source": []
  }
 ],
 "metadata": {
  "kernelspec": {
   "display_name": "Python 3 (ipykernel)",
   "language": "python",
   "name": "python3"
  },
  "language_info": {
   "codemirror_mode": {
    "name": "ipython",
    "version": 3
   },
   "file_extension": ".py",
   "mimetype": "text/x-python",
   "name": "python",
   "nbconvert_exporter": "python",
   "pygments_lexer": "ipython3",
   "version": "3.9.12"
  }
 },
 "nbformat": 4,
 "nbformat_minor": 5
}
