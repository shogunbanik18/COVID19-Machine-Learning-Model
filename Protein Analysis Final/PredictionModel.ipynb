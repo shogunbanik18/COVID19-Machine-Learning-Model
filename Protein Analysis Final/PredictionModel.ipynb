{
 "cells": [
  {
   "cell_type": "code",
   "execution_count": 915,
   "id": "53a31966",
   "metadata": {},
   "outputs": [],
   "source": [
    "import pandas as pd\n",
    "import xgboost as xgb\n",
    "from sklearn.linear_model import LogisticRegression\n",
    "from sklearn import svm\n",
    "from sklearn.preprocessing import StandardScaler \n",
    "from sklearn.model_selection import train_test_split\n",
    "from sklearn.metrics import mean_squared_error\n",
    "from sklearn.metrics import accuracy_score"
   ]
  },
  {
   "cell_type": "code",
   "execution_count": 916,
   "id": "5d2ec923",
   "metadata": {},
   "outputs": [],
   "source": [
    "dataset=pd.read_csv('FinalDataset.csv')"
   ]
  },
  {
   "cell_type": "code",
   "execution_count": 917,
   "id": "23008e11",
   "metadata": {},
   "outputs": [
    {
     "data": {
      "text/html": [
       "<div>\n",
       "<style scoped>\n",
       "    .dataframe tbody tr th:only-of-type {\n",
       "        vertical-align: middle;\n",
       "    }\n",
       "\n",
       "    .dataframe tbody tr th {\n",
       "        vertical-align: top;\n",
       "    }\n",
       "\n",
       "    .dataframe thead th {\n",
       "        text-align: right;\n",
       "    }\n",
       "</style>\n",
       "<table border=\"1\" class=\"dataframe\">\n",
       "  <thead>\n",
       "    <tr style=\"text-align: right;\">\n",
       "      <th></th>\n",
       "      <th>Unnamed: 0</th>\n",
       "      <th>P07585</th>\n",
       "      <th>P16234</th>\n",
       "      <th>P52823</th>\n",
       "      <th>Q9P0M4</th>\n",
       "      <th>Q9Y653</th>\n",
       "      <th>Class Label</th>\n",
       "    </tr>\n",
       "  </thead>\n",
       "  <tbody>\n",
       "    <tr>\n",
       "      <th>0</th>\n",
       "      <td>0</td>\n",
       "      <td>-2.8297</td>\n",
       "      <td>-2.2049</td>\n",
       "      <td>-1.5906</td>\n",
       "      <td>-1.8066</td>\n",
       "      <td>-2.6860</td>\n",
       "      <td>0</td>\n",
       "    </tr>\n",
       "    <tr>\n",
       "      <th>1</th>\n",
       "      <td>1</td>\n",
       "      <td>-2.1921</td>\n",
       "      <td>-1.7358</td>\n",
       "      <td>0.1290</td>\n",
       "      <td>-2.1270</td>\n",
       "      <td>-2.9263</td>\n",
       "      <td>0</td>\n",
       "    </tr>\n",
       "    <tr>\n",
       "      <th>2</th>\n",
       "      <td>2</td>\n",
       "      <td>-1.8498</td>\n",
       "      <td>-1.4122</td>\n",
       "      <td>0.2898</td>\n",
       "      <td>-0.6538</td>\n",
       "      <td>-2.2744</td>\n",
       "      <td>0</td>\n",
       "    </tr>\n",
       "    <tr>\n",
       "      <th>3</th>\n",
       "      <td>3</td>\n",
       "      <td>-2.1312</td>\n",
       "      <td>-1.7620</td>\n",
       "      <td>0.7255</td>\n",
       "      <td>-2.6040</td>\n",
       "      <td>-1.5901</td>\n",
       "      <td>0</td>\n",
       "    </tr>\n",
       "    <tr>\n",
       "      <th>4</th>\n",
       "      <td>4</td>\n",
       "      <td>-2.2969</td>\n",
       "      <td>-1.9415</td>\n",
       "      <td>-1.4633</td>\n",
       "      <td>-1.8342</td>\n",
       "      <td>-2.0379</td>\n",
       "      <td>0</td>\n",
       "    </tr>\n",
       "  </tbody>\n",
       "</table>\n",
       "</div>"
      ],
      "text/plain": [
       "   Unnamed: 0  P07585  P16234  P52823  Q9P0M4  Q9Y653  Class Label\n",
       "0           0 -2.8297 -2.2049 -1.5906 -1.8066 -2.6860            0\n",
       "1           1 -2.1921 -1.7358  0.1290 -2.1270 -2.9263            0\n",
       "2           2 -1.8498 -1.4122  0.2898 -0.6538 -2.2744            0\n",
       "3           3 -2.1312 -1.7620  0.7255 -2.6040 -1.5901            0\n",
       "4           4 -2.2969 -1.9415 -1.4633 -1.8342 -2.0379            0"
      ]
     },
     "execution_count": 917,
     "metadata": {},
     "output_type": "execute_result"
    }
   ],
   "source": [
    "dataset.head()\n"
   ]
  },
  {
   "cell_type": "code",
   "execution_count": 918,
   "id": "c452fc83",
   "metadata": {},
   "outputs": [
    {
     "data": {
      "text/html": [
       "<div>\n",
       "<style scoped>\n",
       "    .dataframe tbody tr th:only-of-type {\n",
       "        vertical-align: middle;\n",
       "    }\n",
       "\n",
       "    .dataframe tbody tr th {\n",
       "        vertical-align: top;\n",
       "    }\n",
       "\n",
       "    .dataframe thead th {\n",
       "        text-align: right;\n",
       "    }\n",
       "</style>\n",
       "<table border=\"1\" class=\"dataframe\">\n",
       "  <thead>\n",
       "    <tr style=\"text-align: right;\">\n",
       "      <th></th>\n",
       "      <th>Unnamed: 0</th>\n",
       "      <th>P07585</th>\n",
       "      <th>P16234</th>\n",
       "      <th>P52823</th>\n",
       "      <th>Q9P0M4</th>\n",
       "      <th>Q9Y653</th>\n",
       "      <th>Class Label</th>\n",
       "    </tr>\n",
       "  </thead>\n",
       "  <tbody>\n",
       "    <tr>\n",
       "      <th>count</th>\n",
       "      <td>344.000000</td>\n",
       "      <td>344.000000</td>\n",
       "      <td>344.000000</td>\n",
       "      <td>344.000000</td>\n",
       "      <td>344.000000</td>\n",
       "      <td>344.000000</td>\n",
       "      <td>344.000000</td>\n",
       "    </tr>\n",
       "    <tr>\n",
       "      <th>mean</th>\n",
       "      <td>171.500000</td>\n",
       "      <td>-1.527347</td>\n",
       "      <td>-1.260672</td>\n",
       "      <td>-0.202303</td>\n",
       "      <td>-0.605348</td>\n",
       "      <td>-1.141384</td>\n",
       "      <td>0.127907</td>\n",
       "    </tr>\n",
       "    <tr>\n",
       "      <th>std</th>\n",
       "      <td>99.448479</td>\n",
       "      <td>0.867228</td>\n",
       "      <td>0.656981</td>\n",
       "      <td>1.160753</td>\n",
       "      <td>1.314124</td>\n",
       "      <td>1.223934</td>\n",
       "      <td>0.334473</td>\n",
       "    </tr>\n",
       "    <tr>\n",
       "      <th>min</th>\n",
       "      <td>0.000000</td>\n",
       "      <td>-3.247600</td>\n",
       "      <td>-2.422000</td>\n",
       "      <td>-2.413900</td>\n",
       "      <td>-2.998900</td>\n",
       "      <td>-3.389500</td>\n",
       "      <td>0.000000</td>\n",
       "    </tr>\n",
       "    <tr>\n",
       "      <th>25%</th>\n",
       "      <td>85.750000</td>\n",
       "      <td>-2.109650</td>\n",
       "      <td>-1.672000</td>\n",
       "      <td>-1.035400</td>\n",
       "      <td>-1.525425</td>\n",
       "      <td>-2.052150</td>\n",
       "      <td>0.000000</td>\n",
       "    </tr>\n",
       "    <tr>\n",
       "      <th>50%</th>\n",
       "      <td>171.500000</td>\n",
       "      <td>-1.704150</td>\n",
       "      <td>-1.374400</td>\n",
       "      <td>-0.373250</td>\n",
       "      <td>-0.870850</td>\n",
       "      <td>-1.404800</td>\n",
       "      <td>0.000000</td>\n",
       "    </tr>\n",
       "    <tr>\n",
       "      <th>75%</th>\n",
       "      <td>257.250000</td>\n",
       "      <td>-1.122025</td>\n",
       "      <td>-0.974700</td>\n",
       "      <td>0.276125</td>\n",
       "      <td>-0.056200</td>\n",
       "      <td>-0.292375</td>\n",
       "      <td>0.000000</td>\n",
       "    </tr>\n",
       "    <tr>\n",
       "      <th>max</th>\n",
       "      <td>343.000000</td>\n",
       "      <td>1.406300</td>\n",
       "      <td>1.973400</td>\n",
       "      <td>4.847500</td>\n",
       "      <td>5.242800</td>\n",
       "      <td>2.775400</td>\n",
       "      <td>1.000000</td>\n",
       "    </tr>\n",
       "  </tbody>\n",
       "</table>\n",
       "</div>"
      ],
      "text/plain": [
       "       Unnamed: 0      P07585      P16234      P52823      Q9P0M4      Q9Y653  \\\n",
       "count  344.000000  344.000000  344.000000  344.000000  344.000000  344.000000   \n",
       "mean   171.500000   -1.527347   -1.260672   -0.202303   -0.605348   -1.141384   \n",
       "std     99.448479    0.867228    0.656981    1.160753    1.314124    1.223934   \n",
       "min      0.000000   -3.247600   -2.422000   -2.413900   -2.998900   -3.389500   \n",
       "25%     85.750000   -2.109650   -1.672000   -1.035400   -1.525425   -2.052150   \n",
       "50%    171.500000   -1.704150   -1.374400   -0.373250   -0.870850   -1.404800   \n",
       "75%    257.250000   -1.122025   -0.974700    0.276125   -0.056200   -0.292375   \n",
       "max    343.000000    1.406300    1.973400    4.847500    5.242800    2.775400   \n",
       "\n",
       "       Class Label  \n",
       "count   344.000000  \n",
       "mean      0.127907  \n",
       "std       0.334473  \n",
       "min       0.000000  \n",
       "25%       0.000000  \n",
       "50%       0.000000  \n",
       "75%       0.000000  \n",
       "max       1.000000  "
      ]
     },
     "execution_count": 918,
     "metadata": {},
     "output_type": "execute_result"
    }
   ],
   "source": [
    "dataset.describe()"
   ]
  },
  {
   "cell_type": "code",
   "execution_count": 919,
   "id": "adb9546d",
   "metadata": {},
   "outputs": [],
   "source": [
    "X=dataset.drop(columns='Class Label',axis=1)\n",
    "Y=dataset['Class Label']"
   ]
  },
  {
   "cell_type": "code",
   "execution_count": 920,
   "id": "34959c45",
   "metadata": {},
   "outputs": [
    {
     "data": {
      "text/html": [
       "<div>\n",
       "<style scoped>\n",
       "    .dataframe tbody tr th:only-of-type {\n",
       "        vertical-align: middle;\n",
       "    }\n",
       "\n",
       "    .dataframe tbody tr th {\n",
       "        vertical-align: top;\n",
       "    }\n",
       "\n",
       "    .dataframe thead th {\n",
       "        text-align: right;\n",
       "    }\n",
       "</style>\n",
       "<table border=\"1\" class=\"dataframe\">\n",
       "  <thead>\n",
       "    <tr style=\"text-align: right;\">\n",
       "      <th></th>\n",
       "      <th>Unnamed: 0</th>\n",
       "      <th>P07585</th>\n",
       "      <th>P16234</th>\n",
       "      <th>P52823</th>\n",
       "      <th>Q9P0M4</th>\n",
       "      <th>Q9Y653</th>\n",
       "    </tr>\n",
       "  </thead>\n",
       "  <tbody>\n",
       "    <tr>\n",
       "      <th>0</th>\n",
       "      <td>0</td>\n",
       "      <td>-2.8297</td>\n",
       "      <td>-2.2049</td>\n",
       "      <td>-1.5906</td>\n",
       "      <td>-1.8066</td>\n",
       "      <td>-2.6860</td>\n",
       "    </tr>\n",
       "    <tr>\n",
       "      <th>1</th>\n",
       "      <td>1</td>\n",
       "      <td>-2.1921</td>\n",
       "      <td>-1.7358</td>\n",
       "      <td>0.1290</td>\n",
       "      <td>-2.1270</td>\n",
       "      <td>-2.9263</td>\n",
       "    </tr>\n",
       "    <tr>\n",
       "      <th>2</th>\n",
       "      <td>2</td>\n",
       "      <td>-1.8498</td>\n",
       "      <td>-1.4122</td>\n",
       "      <td>0.2898</td>\n",
       "      <td>-0.6538</td>\n",
       "      <td>-2.2744</td>\n",
       "    </tr>\n",
       "    <tr>\n",
       "      <th>3</th>\n",
       "      <td>3</td>\n",
       "      <td>-2.1312</td>\n",
       "      <td>-1.7620</td>\n",
       "      <td>0.7255</td>\n",
       "      <td>-2.6040</td>\n",
       "      <td>-1.5901</td>\n",
       "    </tr>\n",
       "    <tr>\n",
       "      <th>4</th>\n",
       "      <td>4</td>\n",
       "      <td>-2.2969</td>\n",
       "      <td>-1.9415</td>\n",
       "      <td>-1.4633</td>\n",
       "      <td>-1.8342</td>\n",
       "      <td>-2.0379</td>\n",
       "    </tr>\n",
       "    <tr>\n",
       "      <th>...</th>\n",
       "      <td>...</td>\n",
       "      <td>...</td>\n",
       "      <td>...</td>\n",
       "      <td>...</td>\n",
       "      <td>...</td>\n",
       "      <td>...</td>\n",
       "    </tr>\n",
       "    <tr>\n",
       "      <th>339</th>\n",
       "      <td>339</td>\n",
       "      <td>0.0824</td>\n",
       "      <td>-0.3291</td>\n",
       "      <td>2.3867</td>\n",
       "      <td>1.1664</td>\n",
       "      <td>1.8874</td>\n",
       "    </tr>\n",
       "    <tr>\n",
       "      <th>340</th>\n",
       "      <td>340</td>\n",
       "      <td>-1.6721</td>\n",
       "      <td>-1.5509</td>\n",
       "      <td>-0.8692</td>\n",
       "      <td>-0.7645</td>\n",
       "      <td>-2.4301</td>\n",
       "    </tr>\n",
       "    <tr>\n",
       "      <th>341</th>\n",
       "      <td>341</td>\n",
       "      <td>-0.5414</td>\n",
       "      <td>-0.8855</td>\n",
       "      <td>1.5468</td>\n",
       "      <td>0.5840</td>\n",
       "      <td>1.2652</td>\n",
       "    </tr>\n",
       "    <tr>\n",
       "      <th>342</th>\n",
       "      <td>342</td>\n",
       "      <td>-0.6373</td>\n",
       "      <td>-1.4417</td>\n",
       "      <td>1.2397</td>\n",
       "      <td>-0.0589</td>\n",
       "      <td>-0.6997</td>\n",
       "    </tr>\n",
       "    <tr>\n",
       "      <th>343</th>\n",
       "      <td>343</td>\n",
       "      <td>0.3649</td>\n",
       "      <td>-0.1488</td>\n",
       "      <td>1.7518</td>\n",
       "      <td>1.0035</td>\n",
       "      <td>-0.7984</td>\n",
       "    </tr>\n",
       "  </tbody>\n",
       "</table>\n",
       "<p>344 rows × 6 columns</p>\n",
       "</div>"
      ],
      "text/plain": [
       "     Unnamed: 0  P07585  P16234  P52823  Q9P0M4  Q9Y653\n",
       "0             0 -2.8297 -2.2049 -1.5906 -1.8066 -2.6860\n",
       "1             1 -2.1921 -1.7358  0.1290 -2.1270 -2.9263\n",
       "2             2 -1.8498 -1.4122  0.2898 -0.6538 -2.2744\n",
       "3             3 -2.1312 -1.7620  0.7255 -2.6040 -1.5901\n",
       "4             4 -2.2969 -1.9415 -1.4633 -1.8342 -2.0379\n",
       "..          ...     ...     ...     ...     ...     ...\n",
       "339         339  0.0824 -0.3291  2.3867  1.1664  1.8874\n",
       "340         340 -1.6721 -1.5509 -0.8692 -0.7645 -2.4301\n",
       "341         341 -0.5414 -0.8855  1.5468  0.5840  1.2652\n",
       "342         342 -0.6373 -1.4417  1.2397 -0.0589 -0.6997\n",
       "343         343  0.3649 -0.1488  1.7518  1.0035 -0.7984\n",
       "\n",
       "[344 rows x 6 columns]"
      ]
     },
     "execution_count": 920,
     "metadata": {},
     "output_type": "execute_result"
    }
   ],
   "source": [
    "X"
   ]
  },
  {
   "cell_type": "code",
   "execution_count": 921,
   "id": "dc9e1d48",
   "metadata": {},
   "outputs": [
    {
     "data": {
      "text/plain": [
       "0      0\n",
       "1      0\n",
       "2      0\n",
       "3      0\n",
       "4      0\n",
       "      ..\n",
       "339    1\n",
       "340    1\n",
       "341    1\n",
       "342    1\n",
       "343    1\n",
       "Name: Class Label, Length: 344, dtype: int64"
      ]
     },
     "execution_count": 921,
     "metadata": {},
     "output_type": "execute_result"
    }
   ],
   "source": [
    "Y"
   ]
  },
  {
   "cell_type": "code",
   "execution_count": 922,
   "id": "4c765485",
   "metadata": {},
   "outputs": [],
   "source": [
    "scaler = StandardScaler()\n",
    "scaler.fit(X)\n",
    "standardized_data = scaler.transform(X)"
   ]
  },
  {
   "cell_type": "code",
   "execution_count": 923,
   "id": "88d0758f",
   "metadata": {},
   "outputs": [],
   "source": [
    "X = standardized_data"
   ]
  },
  {
   "cell_type": "code",
   "execution_count": 924,
   "id": "fb71d458",
   "metadata": {},
   "outputs": [
    {
     "data": {
      "text/plain": [
       "array([[-1.72702307, -1.50392954, -1.43931612, -1.19777336, -0.91543959,\n",
       "        -1.26384778],\n",
       "       [-1.71695297, -0.76764273, -0.7242521 ,  0.28583668, -1.15960726,\n",
       "        -1.46046793],\n",
       "       [-1.70688286, -0.37236204, -0.23097835,  0.42456923, -0.03692369,\n",
       "        -0.92706521],\n",
       "       ...,\n",
       "       [ 1.70688286,  1.13855022,  0.57188717,  1.50906435,  0.90636828,\n",
       "         1.969134  ],\n",
       "       [ 1.71695297,  1.02780696, -0.27594614,  1.24410934,  0.41643258,\n",
       "         0.36139815],\n",
       "       [ 1.72702307,  2.18512602,  1.69486236,  1.6859311 ,  1.22605723,\n",
       "         0.28063906]])"
      ]
     },
     "execution_count": 924,
     "metadata": {},
     "output_type": "execute_result"
    }
   ],
   "source": [
    "X"
   ]
  },
  {
   "cell_type": "code",
   "execution_count": 925,
   "id": "f96947b7",
   "metadata": {},
   "outputs": [],
   "source": [
    "X_train,X_test,y_train,y_test=train_test_split(X,Y,test_size=0.2, stratify=Y,random_state=2)"
   ]
  },
  {
   "cell_type": "code",
   "execution_count": 926,
   "id": "43538954",
   "metadata": {},
   "outputs": [],
   "source": [
    "# classifier = xgb.XGBClassifier(colsample_bytree=0.01,subsample=0.1,max_depth=100,gamma=1000,eta=0.01,min_child_weight=100)\n",
    "# classifier=xgb.XGBClassifier(n_estimators = 5000,\n",
    "#                         learning_rate = 0.0005,\n",
    "#                         use_label_encoder = False,\n",
    "#                         eval_metric = \"logloss\",\n",
    "#                         early_stopping_rounds = 5,\n",
    "#                         n_jobs = -3)\n",
    "classifier=svm.SVC()"
   ]
  },
  {
   "cell_type": "code",
   "execution_count": 927,
   "id": "819e1c5e",
   "metadata": {},
   "outputs": [
    {
     "data": {
      "text/plain": [
       "SVC()"
      ]
     },
     "execution_count": 927,
     "metadata": {},
     "output_type": "execute_result"
    }
   ],
   "source": [
    "classifier.fit(X_train, y_train)"
   ]
  },
  {
   "cell_type": "code",
   "execution_count": 928,
   "id": "24e8d730",
   "metadata": {},
   "outputs": [],
   "source": [
    "X_train_prediction=classifier.predict(X_train)\n",
    "training_data_accuracy=accuracy_score(X_train_prediction, y_train)"
   ]
  },
  {
   "cell_type": "code",
   "execution_count": 929,
   "id": "4338e7d2",
   "metadata": {},
   "outputs": [
    {
     "name": "stdout",
     "output_type": "stream",
     "text": [
      "Accuracy on training data 98.54545454545455\n"
     ]
    }
   ],
   "source": [
    "print(\"Accuracy on training data\",training_data_accuracy*100)"
   ]
  },
  {
   "cell_type": "code",
   "execution_count": 930,
   "id": "4bf37b20",
   "metadata": {},
   "outputs": [],
   "source": [
    "X_test_prediction=classifier.predict(X_test)\n",
    "test_data_accuracy=accuracy_score(X_test_prediction, y_test)"
   ]
  },
  {
   "cell_type": "code",
   "execution_count": 931,
   "id": "48b0d4d7",
   "metadata": {},
   "outputs": [
    {
     "name": "stdout",
     "output_type": "stream",
     "text": [
      "Accuracy on training data 97.10144927536231\n"
     ]
    }
   ],
   "source": [
    "print(\"Accuracy on training data\",test_data_accuracy*100)"
   ]
  },
  {
   "cell_type": "code",
   "execution_count": null,
   "id": "9259e800",
   "metadata": {},
   "outputs": [],
   "source": []
  }
 ],
 "metadata": {
  "kernelspec": {
   "display_name": "Python 3 (ipykernel)",
   "language": "python",
   "name": "python3"
  },
  "language_info": {
   "codemirror_mode": {
    "name": "ipython",
    "version": 3
   },
   "file_extension": ".py",
   "mimetype": "text/x-python",
   "name": "python",
   "nbconvert_exporter": "python",
   "pygments_lexer": "ipython3",
   "version": "3.9.12"
  }
 },
 "nbformat": 4,
 "nbformat_minor": 5
}
