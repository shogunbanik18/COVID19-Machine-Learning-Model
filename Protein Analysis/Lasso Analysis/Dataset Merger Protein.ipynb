{
 "cells": [
  {
   "cell_type": "code",
   "execution_count": 152,
   "id": "57ebccee",
   "metadata": {},
   "outputs": [],
   "source": [
    "import pandas as pd\n",
    "import numpy as np\n",
    "from sklearn.linear_model import Lasso"
   ]
  },
  {
   "cell_type": "code",
   "execution_count": 153,
   "id": "d541b840",
   "metadata": {},
   "outputs": [],
   "source": [
    "# list of filenames\n",
    "filenames = ['check1.csv', 'check2.csv', 'check3.csv', 'check4.csv', 'check5.csv', 'check6.csv', 'check7.csv', \n",
    "             'check8.csv', 'check9.csv', 'check10.csv', 'check11.csv', 'check12.csv', 'check13.csv', 'check14.csv',\n",
    "             'check15.csv', 'check16.csv', 'check17.csv', 'check18_mods.csv', 'check19_mods.csv']\n",
    "\n",
    "# list of DataFrames\n",
    "files = []\n",
    "\n",
    "# read each CSV file into a DataFrame and append it to the list of DataFrames\n",
    "for filename in filenames:\n",
    "    df = pd.read_csv(filename)\n",
    "    files.append(df)"
   ]
  },
  {
   "cell_type": "code",
   "execution_count": 154,
   "id": "d6ef042d",
   "metadata": {},
   "outputs": [],
   "source": [
    "# list of DataFrames\n",
    "dfs = [df1, df2, df3, df4, df5, df6, df7, df8, df9, df10, df11,df12,df13,df14,df15,df16,df17,df18,df19]\n",
    "\n",
    "# list of sets of column names\n",
    "cols_list = []\n",
    "\n",
    "# extract the set of column names for each DataFrame and append it to the list of sets\n",
    "for df in dfs:\n",
    "    df.drop(columns='Class Label')\n",
    "    cols = set(df.columns)\n",
    "    cols_list.append(cols)"
   ]
  },
  {
   "cell_type": "code",
   "execution_count": 155,
   "id": "ab1965aa",
   "metadata": {},
   "outputs": [
    {
     "name": "stdout",
     "output_type": "stream",
     "text": [
      "{'Q9Y653', 'Unnamed: 0', 'Q9P0M4', 'P07585', 'Class Label'}\n"
     ]
    }
   ],
   "source": [
    "print(cols_list[0])"
   ]
  },
  {
   "cell_type": "code",
   "execution_count": 156,
   "id": "9e103237",
   "metadata": {},
   "outputs": [],
   "source": [
    "import collections\n",
    "map1 = collections.defaultdict(int)"
   ]
  },
  {
   "cell_type": "code",
   "execution_count": 157,
   "id": "61caad12",
   "metadata": {},
   "outputs": [],
   "source": [
    "for x in cols_list :\n",
    "    for i in x:\n",
    "        map1[i]+=1"
   ]
  },
  {
   "cell_type": "code",
   "execution_count": 158,
   "id": "d7608af6",
   "metadata": {},
   "outputs": [
    {
     "name": "stdout",
     "output_type": "stream",
     "text": [
      "Q9Y653 19\n",
      "Unnamed: 0 19\n",
      "Q9P0M4 19\n",
      "P07585 13\n",
      "Class Label 19\n",
      "P16234 7\n",
      "P52823 8\n",
      "P14136 10\n",
      "P08833 11\n",
      "P55259 11\n",
      "O60635 9\n",
      "P19429 8\n",
      "P08727 4\n",
      "O15232 4\n",
      "P18627 2\n",
      "P00750 4\n",
      "P01591 3\n",
      "P51531 4\n",
      "Q5JZY3 5\n",
      "O60542 4\n",
      "Q92832 4\n",
      "P14780 5\n",
      "P09466 4\n",
      "P21246 6\n",
      "A1E959 5\n",
      "Q15067 3\n",
      "P15336 4\n",
      "Q12968 3\n",
      "O95750 5\n",
      "Q8IU54 6\n",
      "Q9NRD8 4\n",
      "P36222 3\n",
      "O95256 4\n",
      "P43629 5\n",
      "Q29980_Q29983 5\n",
      "P16860 4\n",
      "P34998 3\n",
      "O95994 5\n",
      "P05231 4\n",
      "P19801 5\n",
      "Q9Y5K2 3\n",
      "Q8N2G4 4\n",
      "Q96JP9 6\n",
      "P60568 5\n",
      "Q9Y265 5\n",
      "P68106 3\n",
      "Q8WTU2 3\n",
      "Q04759 2\n",
      "Q13231 2\n",
      "P01583 2\n",
      "P06850 2\n",
      "P30838 2\n",
      "O14788 2\n",
      "O95379 2\n",
      "Q8IW75 2\n",
      "P58546 2\n",
      "Q8TDL5 2\n",
      "Q16552 2\n"
     ]
    }
   ],
   "source": [
    "for y in map1:\n",
    "    print(y,map1[y])"
   ]
  },
  {
   "cell_type": "code",
   "execution_count": 160,
   "id": "d49d12ef",
   "metadata": {},
   "outputs": [
    {
     "name": "stdout",
     "output_type": "stream",
     "text": [
      "Q9Y653 19\n",
      "Unnamed: 0 19\n",
      "Q9P0M4 19\n",
      "P07585 13\n",
      "Class Label 19\n",
      "P16234 7\n",
      "P52823 8\n",
      "P14136 10\n",
      "P08833 11\n",
      "P55259 11\n",
      "O60635 9\n",
      "P19429 8\n"
     ]
    }
   ],
   "source": [
    "size = len(filenames)\n",
    "sz = int(size/2)\n",
    "for x in map1:\n",
    "    if map1[x] >= sz-2:\n",
    "        print(x,map1[x])"
   ]
  },
  {
   "cell_type": "code",
   "execution_count": null,
   "id": "5fa4b6a2",
   "metadata": {},
   "outputs": [],
   "source": []
  }
 ],
 "metadata": {
  "kernelspec": {
   "display_name": "Python 3 (ipykernel)",
   "language": "python",
   "name": "python3"
  },
  "language_info": {
   "codemirror_mode": {
    "name": "ipython",
    "version": 3
   },
   "file_extension": ".py",
   "mimetype": "text/x-python",
   "name": "python",
   "nbconvert_exporter": "python",
   "pygments_lexer": "ipython3",
   "version": "3.9.12"
  }
 },
 "nbformat": 4,
 "nbformat_minor": 5
}
