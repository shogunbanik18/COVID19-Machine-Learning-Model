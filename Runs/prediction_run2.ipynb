{
 "cells": [
  {
   "cell_type": "code",
   "execution_count": null,
   "id": "61f8cdbc",
   "metadata": {},
   "outputs": [],
   "source": []
  },
  {
   "cell_type": "code",
   "execution_count": 455,
   "id": "d2ba077f",
   "metadata": {},
   "outputs": [],
   "source": [
    "import pandas as pd\n",
    "import xgboost as xgb\n",
    "from sklearn.linear_model import LogisticRegression\n",
    "from sklearn import svm\n",
    "from sklearn.preprocessing import StandardScaler \n",
    "from sklearn.model_selection import train_test_split\n",
    "from sklearn.metrics import mean_squared_error\n",
    "from sklearn.metrics import accuracy_score"
   ]
  },
  {
   "cell_type": "code",
   "execution_count": 640,
   "id": "40c3b264",
   "metadata": {},
   "outputs": [],
   "source": [
    "dataset=pd.read_csv('Run2.csv')"
   ]
  },
  {
   "cell_type": "code",
   "execution_count": 641,
   "id": "02b4b973",
   "metadata": {},
   "outputs": [
    {
     "data": {
      "text/html": [
       "<div>\n",
       "<style scoped>\n",
       "    .dataframe tbody tr th:only-of-type {\n",
       "        vertical-align: middle;\n",
       "    }\n",
       "\n",
       "    .dataframe tbody tr th {\n",
       "        vertical-align: top;\n",
       "    }\n",
       "\n",
       "    .dataframe thead th {\n",
       "        text-align: right;\n",
       "    }\n",
       "</style>\n",
       "<table border=\"1\" class=\"dataframe\">\n",
       "  <thead>\n",
       "    <tr style=\"text-align: right;\">\n",
       "      <th></th>\n",
       "      <th>Unnamed: 0</th>\n",
       "      <th>P07585</th>\n",
       "      <th>Q9P0M4</th>\n",
       "      <th>Q9UGM5</th>\n",
       "      <th>Q9Y653</th>\n",
       "      <th>Class Label</th>\n",
       "    </tr>\n",
       "  </thead>\n",
       "  <tbody>\n",
       "    <tr>\n",
       "      <th>0</th>\n",
       "      <td>0</td>\n",
       "      <td>-2.8297</td>\n",
       "      <td>-1.8066</td>\n",
       "      <td>-1.9304</td>\n",
       "      <td>-2.6860</td>\n",
       "      <td>0</td>\n",
       "    </tr>\n",
       "    <tr>\n",
       "      <th>1</th>\n",
       "      <td>1</td>\n",
       "      <td>-2.1921</td>\n",
       "      <td>-2.1270</td>\n",
       "      <td>-1.9200</td>\n",
       "      <td>-2.9263</td>\n",
       "      <td>0</td>\n",
       "    </tr>\n",
       "    <tr>\n",
       "      <th>2</th>\n",
       "      <td>2</td>\n",
       "      <td>-1.8498</td>\n",
       "      <td>-0.6538</td>\n",
       "      <td>-1.2569</td>\n",
       "      <td>-2.2744</td>\n",
       "      <td>0</td>\n",
       "    </tr>\n",
       "    <tr>\n",
       "      <th>3</th>\n",
       "      <td>3</td>\n",
       "      <td>-2.1312</td>\n",
       "      <td>-2.6040</td>\n",
       "      <td>-1.5945</td>\n",
       "      <td>-1.5901</td>\n",
       "      <td>0</td>\n",
       "    </tr>\n",
       "    <tr>\n",
       "      <th>4</th>\n",
       "      <td>4</td>\n",
       "      <td>-2.2969</td>\n",
       "      <td>-1.8342</td>\n",
       "      <td>-1.5268</td>\n",
       "      <td>-2.0379</td>\n",
       "      <td>0</td>\n",
       "    </tr>\n",
       "  </tbody>\n",
       "</table>\n",
       "</div>"
      ],
      "text/plain": [
       "   Unnamed: 0  P07585  Q9P0M4  Q9UGM5  Q9Y653  Class Label\n",
       "0           0 -2.8297 -1.8066 -1.9304 -2.6860            0\n",
       "1           1 -2.1921 -2.1270 -1.9200 -2.9263            0\n",
       "2           2 -1.8498 -0.6538 -1.2569 -2.2744            0\n",
       "3           3 -2.1312 -2.6040 -1.5945 -1.5901            0\n",
       "4           4 -2.2969 -1.8342 -1.5268 -2.0379            0"
      ]
     },
     "execution_count": 641,
     "metadata": {},
     "output_type": "execute_result"
    }
   ],
   "source": [
    "dataset.head()"
   ]
  },
  {
   "cell_type": "code",
   "execution_count": 642,
   "id": "94e34867",
   "metadata": {},
   "outputs": [
    {
     "data": {
      "text/html": [
       "<div>\n",
       "<style scoped>\n",
       "    .dataframe tbody tr th:only-of-type {\n",
       "        vertical-align: middle;\n",
       "    }\n",
       "\n",
       "    .dataframe tbody tr th {\n",
       "        vertical-align: top;\n",
       "    }\n",
       "\n",
       "    .dataframe thead th {\n",
       "        text-align: right;\n",
       "    }\n",
       "</style>\n",
       "<table border=\"1\" class=\"dataframe\">\n",
       "  <thead>\n",
       "    <tr style=\"text-align: right;\">\n",
       "      <th></th>\n",
       "      <th>Unnamed: 0</th>\n",
       "      <th>P07585</th>\n",
       "      <th>Q9P0M4</th>\n",
       "      <th>Q9UGM5</th>\n",
       "      <th>Q9Y653</th>\n",
       "      <th>Class Label</th>\n",
       "    </tr>\n",
       "  </thead>\n",
       "  <tbody>\n",
       "    <tr>\n",
       "      <th>count</th>\n",
       "      <td>344.000000</td>\n",
       "      <td>344.000000</td>\n",
       "      <td>344.000000</td>\n",
       "      <td>344.000000</td>\n",
       "      <td>344.000000</td>\n",
       "      <td>344.000000</td>\n",
       "    </tr>\n",
       "    <tr>\n",
       "      <th>mean</th>\n",
       "      <td>171.500000</td>\n",
       "      <td>-1.527347</td>\n",
       "      <td>-0.605348</td>\n",
       "      <td>-2.183972</td>\n",
       "      <td>-1.141384</td>\n",
       "      <td>0.127907</td>\n",
       "    </tr>\n",
       "    <tr>\n",
       "      <th>std</th>\n",
       "      <td>99.448479</td>\n",
       "      <td>0.867228</td>\n",
       "      <td>1.314124</td>\n",
       "      <td>0.800740</td>\n",
       "      <td>1.223934</td>\n",
       "      <td>0.334473</td>\n",
       "    </tr>\n",
       "    <tr>\n",
       "      <th>min</th>\n",
       "      <td>0.000000</td>\n",
       "      <td>-3.247600</td>\n",
       "      <td>-2.998900</td>\n",
       "      <td>-5.157000</td>\n",
       "      <td>-3.389500</td>\n",
       "      <td>0.000000</td>\n",
       "    </tr>\n",
       "    <tr>\n",
       "      <th>25%</th>\n",
       "      <td>85.750000</td>\n",
       "      <td>-2.109650</td>\n",
       "      <td>-1.525425</td>\n",
       "      <td>-2.589375</td>\n",
       "      <td>-2.052150</td>\n",
       "      <td>0.000000</td>\n",
       "    </tr>\n",
       "    <tr>\n",
       "      <th>50%</th>\n",
       "      <td>171.500000</td>\n",
       "      <td>-1.704150</td>\n",
       "      <td>-0.870850</td>\n",
       "      <td>-2.168250</td>\n",
       "      <td>-1.404800</td>\n",
       "      <td>0.000000</td>\n",
       "    </tr>\n",
       "    <tr>\n",
       "      <th>75%</th>\n",
       "      <td>257.250000</td>\n",
       "      <td>-1.122025</td>\n",
       "      <td>-0.056200</td>\n",
       "      <td>-1.685075</td>\n",
       "      <td>-0.292375</td>\n",
       "      <td>0.000000</td>\n",
       "    </tr>\n",
       "    <tr>\n",
       "      <th>max</th>\n",
       "      <td>343.000000</td>\n",
       "      <td>1.406300</td>\n",
       "      <td>5.242800</td>\n",
       "      <td>0.182400</td>\n",
       "      <td>2.775400</td>\n",
       "      <td>1.000000</td>\n",
       "    </tr>\n",
       "  </tbody>\n",
       "</table>\n",
       "</div>"
      ],
      "text/plain": [
       "       Unnamed: 0      P07585      Q9P0M4      Q9UGM5      Q9Y653  Class Label\n",
       "count  344.000000  344.000000  344.000000  344.000000  344.000000   344.000000\n",
       "mean   171.500000   -1.527347   -0.605348   -2.183972   -1.141384     0.127907\n",
       "std     99.448479    0.867228    1.314124    0.800740    1.223934     0.334473\n",
       "min      0.000000   -3.247600   -2.998900   -5.157000   -3.389500     0.000000\n",
       "25%     85.750000   -2.109650   -1.525425   -2.589375   -2.052150     0.000000\n",
       "50%    171.500000   -1.704150   -0.870850   -2.168250   -1.404800     0.000000\n",
       "75%    257.250000   -1.122025   -0.056200   -1.685075   -0.292375     0.000000\n",
       "max    343.000000    1.406300    5.242800    0.182400    2.775400     1.000000"
      ]
     },
     "execution_count": 642,
     "metadata": {},
     "output_type": "execute_result"
    }
   ],
   "source": [
    "dataset.describe()"
   ]
  },
  {
   "cell_type": "code",
   "execution_count": 643,
   "id": "d0204bcf",
   "metadata": {},
   "outputs": [],
   "source": [
    "X=dataset.drop(columns='Class Label',axis=1)\n",
    "Y=dataset['Class Label']"
   ]
  },
  {
   "cell_type": "code",
   "execution_count": 644,
   "id": "ca132379",
   "metadata": {},
   "outputs": [
    {
     "data": {
      "text/html": [
       "<div>\n",
       "<style scoped>\n",
       "    .dataframe tbody tr th:only-of-type {\n",
       "        vertical-align: middle;\n",
       "    }\n",
       "\n",
       "    .dataframe tbody tr th {\n",
       "        vertical-align: top;\n",
       "    }\n",
       "\n",
       "    .dataframe thead th {\n",
       "        text-align: right;\n",
       "    }\n",
       "</style>\n",
       "<table border=\"1\" class=\"dataframe\">\n",
       "  <thead>\n",
       "    <tr style=\"text-align: right;\">\n",
       "      <th></th>\n",
       "      <th>Unnamed: 0</th>\n",
       "      <th>P07585</th>\n",
       "      <th>Q9P0M4</th>\n",
       "      <th>Q9UGM5</th>\n",
       "      <th>Q9Y653</th>\n",
       "    </tr>\n",
       "  </thead>\n",
       "  <tbody>\n",
       "    <tr>\n",
       "      <th>0</th>\n",
       "      <td>0</td>\n",
       "      <td>-2.8297</td>\n",
       "      <td>-1.8066</td>\n",
       "      <td>-1.9304</td>\n",
       "      <td>-2.6860</td>\n",
       "    </tr>\n",
       "    <tr>\n",
       "      <th>1</th>\n",
       "      <td>1</td>\n",
       "      <td>-2.1921</td>\n",
       "      <td>-2.1270</td>\n",
       "      <td>-1.9200</td>\n",
       "      <td>-2.9263</td>\n",
       "    </tr>\n",
       "    <tr>\n",
       "      <th>2</th>\n",
       "      <td>2</td>\n",
       "      <td>-1.8498</td>\n",
       "      <td>-0.6538</td>\n",
       "      <td>-1.2569</td>\n",
       "      <td>-2.2744</td>\n",
       "    </tr>\n",
       "    <tr>\n",
       "      <th>3</th>\n",
       "      <td>3</td>\n",
       "      <td>-2.1312</td>\n",
       "      <td>-2.6040</td>\n",
       "      <td>-1.5945</td>\n",
       "      <td>-1.5901</td>\n",
       "    </tr>\n",
       "    <tr>\n",
       "      <th>4</th>\n",
       "      <td>4</td>\n",
       "      <td>-2.2969</td>\n",
       "      <td>-1.8342</td>\n",
       "      <td>-1.5268</td>\n",
       "      <td>-2.0379</td>\n",
       "    </tr>\n",
       "    <tr>\n",
       "      <th>...</th>\n",
       "      <td>...</td>\n",
       "      <td>...</td>\n",
       "      <td>...</td>\n",
       "      <td>...</td>\n",
       "      <td>...</td>\n",
       "    </tr>\n",
       "    <tr>\n",
       "      <th>339</th>\n",
       "      <td>339</td>\n",
       "      <td>0.0824</td>\n",
       "      <td>1.1664</td>\n",
       "      <td>-2.9712</td>\n",
       "      <td>1.8874</td>\n",
       "    </tr>\n",
       "    <tr>\n",
       "      <th>340</th>\n",
       "      <td>340</td>\n",
       "      <td>-1.6721</td>\n",
       "      <td>-0.7645</td>\n",
       "      <td>-2.7253</td>\n",
       "      <td>-2.4301</td>\n",
       "    </tr>\n",
       "    <tr>\n",
       "      <th>341</th>\n",
       "      <td>341</td>\n",
       "      <td>-0.5414</td>\n",
       "      <td>0.5840</td>\n",
       "      <td>-2.4430</td>\n",
       "      <td>1.2652</td>\n",
       "    </tr>\n",
       "    <tr>\n",
       "      <th>342</th>\n",
       "      <td>342</td>\n",
       "      <td>-0.6373</td>\n",
       "      <td>-0.0589</td>\n",
       "      <td>-3.0489</td>\n",
       "      <td>-0.6997</td>\n",
       "    </tr>\n",
       "    <tr>\n",
       "      <th>343</th>\n",
       "      <td>343</td>\n",
       "      <td>0.3649</td>\n",
       "      <td>1.0035</td>\n",
       "      <td>-2.2663</td>\n",
       "      <td>-0.7984</td>\n",
       "    </tr>\n",
       "  </tbody>\n",
       "</table>\n",
       "<p>344 rows × 5 columns</p>\n",
       "</div>"
      ],
      "text/plain": [
       "     Unnamed: 0  P07585  Q9P0M4  Q9UGM5  Q9Y653\n",
       "0             0 -2.8297 -1.8066 -1.9304 -2.6860\n",
       "1             1 -2.1921 -2.1270 -1.9200 -2.9263\n",
       "2             2 -1.8498 -0.6538 -1.2569 -2.2744\n",
       "3             3 -2.1312 -2.6040 -1.5945 -1.5901\n",
       "4             4 -2.2969 -1.8342 -1.5268 -2.0379\n",
       "..          ...     ...     ...     ...     ...\n",
       "339         339  0.0824  1.1664 -2.9712  1.8874\n",
       "340         340 -1.6721 -0.7645 -2.7253 -2.4301\n",
       "341         341 -0.5414  0.5840 -2.4430  1.2652\n",
       "342         342 -0.6373 -0.0589 -3.0489 -0.6997\n",
       "343         343  0.3649  1.0035 -2.2663 -0.7984\n",
       "\n",
       "[344 rows x 5 columns]"
      ]
     },
     "execution_count": 644,
     "metadata": {},
     "output_type": "execute_result"
    }
   ],
   "source": [
    "X"
   ]
  },
  {
   "cell_type": "code",
   "execution_count": 645,
   "id": "0d9b3a55",
   "metadata": {},
   "outputs": [
    {
     "data": {
      "text/plain": [
       "0      0\n",
       "1      0\n",
       "2      0\n",
       "3      0\n",
       "4      0\n",
       "      ..\n",
       "339    1\n",
       "340    1\n",
       "341    1\n",
       "342    1\n",
       "343    1\n",
       "Name: Class Label, Length: 344, dtype: int64"
      ]
     },
     "execution_count": 645,
     "metadata": {},
     "output_type": "execute_result"
    }
   ],
   "source": [
    "Y"
   ]
  },
  {
   "cell_type": "code",
   "execution_count": 646,
   "id": "cd708539",
   "metadata": {},
   "outputs": [],
   "source": [
    "scaler = StandardScaler()\n",
    "scaler.fit(X)\n",
    "standardized_data = scaler.transform(X)"
   ]
  },
  {
   "cell_type": "code",
   "execution_count": 647,
   "id": "01667692",
   "metadata": {},
   "outputs": [],
   "source": [
    "X = standardized_data"
   ]
  },
  {
   "cell_type": "code",
   "execution_count": 648,
   "id": "8c6962cd",
   "metadata": {},
   "outputs": [
    {
     "data": {
      "text/plain": [
       "array([[-1.72702307, -1.50392954, -0.91543959,  0.31713315, -1.26384778],\n",
       "       [-1.71695297, -0.76764273, -1.15960726,  0.33014006, -1.46046793],\n",
       "       [-1.70688286, -0.37236204, -0.03692369,  1.15945542, -0.92706521],\n",
       "       ...,\n",
       "       [ 1.70688286,  1.13855022,  0.90636828, -0.32395727,  1.969134  ],\n",
       "       [ 1.71695297,  1.02780696,  0.41643258, -1.08173465,  0.36139815],\n",
       "       [ 1.72702307,  2.18512602,  1.22605723, -0.10296492,  0.28063906]])"
      ]
     },
     "execution_count": 648,
     "metadata": {},
     "output_type": "execute_result"
    }
   ],
   "source": [
    "X"
   ]
  },
  {
   "cell_type": "code",
   "execution_count": 649,
   "id": "56393382",
   "metadata": {},
   "outputs": [],
   "source": [
    "X_train,X_test,y_train,y_test=train_test_split(X,Y,test_size=0.2, stratify=Y,random_state=2)"
   ]
  },
  {
   "cell_type": "code",
   "execution_count": 650,
   "id": "cb6bae83",
   "metadata": {},
   "outputs": [],
   "source": [
    "#classifier = xgb.XGBClassifier(colsample_bytree=0.01,subsample=0.1,max_depth=100,gamma=1000,eta=0.01,min_child_weight=100)\n",
    "# classifier=xgb.XGBClassifier(n_estimators = 5000,\n",
    "#                         learning_rate = 0.0005,\n",
    "#                         use_label_encoder = False,\n",
    "#                         eval_metric = \"logloss\",\n",
    "#                         early_stopping_rounds = 5,\n",
    "#                         n_jobs = -3)\n",
    "classifier=svm.SVC()"
   ]
  },
  {
   "cell_type": "code",
   "execution_count": 651,
   "id": "18df46d9",
   "metadata": {},
   "outputs": [
    {
     "data": {
      "text/html": [
       "<style>#sk-container-id-57 {color: black;background-color: white;}#sk-container-id-57 pre{padding: 0;}#sk-container-id-57 div.sk-toggleable {background-color: white;}#sk-container-id-57 label.sk-toggleable__label {cursor: pointer;display: block;width: 100%;margin-bottom: 0;padding: 0.3em;box-sizing: border-box;text-align: center;}#sk-container-id-57 label.sk-toggleable__label-arrow:before {content: \"▸\";float: left;margin-right: 0.25em;color: #696969;}#sk-container-id-57 label.sk-toggleable__label-arrow:hover:before {color: black;}#sk-container-id-57 div.sk-estimator:hover label.sk-toggleable__label-arrow:before {color: black;}#sk-container-id-57 div.sk-toggleable__content {max-height: 0;max-width: 0;overflow: hidden;text-align: left;background-color: #f0f8ff;}#sk-container-id-57 div.sk-toggleable__content pre {margin: 0.2em;color: black;border-radius: 0.25em;background-color: #f0f8ff;}#sk-container-id-57 input.sk-toggleable__control:checked~div.sk-toggleable__content {max-height: 200px;max-width: 100%;overflow: auto;}#sk-container-id-57 input.sk-toggleable__control:checked~label.sk-toggleable__label-arrow:before {content: \"▾\";}#sk-container-id-57 div.sk-estimator input.sk-toggleable__control:checked~label.sk-toggleable__label {background-color: #d4ebff;}#sk-container-id-57 div.sk-label input.sk-toggleable__control:checked~label.sk-toggleable__label {background-color: #d4ebff;}#sk-container-id-57 input.sk-hidden--visually {border: 0;clip: rect(1px 1px 1px 1px);clip: rect(1px, 1px, 1px, 1px);height: 1px;margin: -1px;overflow: hidden;padding: 0;position: absolute;width: 1px;}#sk-container-id-57 div.sk-estimator {font-family: monospace;background-color: #f0f8ff;border: 1px dotted black;border-radius: 0.25em;box-sizing: border-box;margin-bottom: 0.5em;}#sk-container-id-57 div.sk-estimator:hover {background-color: #d4ebff;}#sk-container-id-57 div.sk-parallel-item::after {content: \"\";width: 100%;border-bottom: 1px solid gray;flex-grow: 1;}#sk-container-id-57 div.sk-label:hover label.sk-toggleable__label {background-color: #d4ebff;}#sk-container-id-57 div.sk-serial::before {content: \"\";position: absolute;border-left: 1px solid gray;box-sizing: border-box;top: 0;bottom: 0;left: 50%;z-index: 0;}#sk-container-id-57 div.sk-serial {display: flex;flex-direction: column;align-items: center;background-color: white;padding-right: 0.2em;padding-left: 0.2em;position: relative;}#sk-container-id-57 div.sk-item {position: relative;z-index: 1;}#sk-container-id-57 div.sk-parallel {display: flex;align-items: stretch;justify-content: center;background-color: white;position: relative;}#sk-container-id-57 div.sk-item::before, #sk-container-id-57 div.sk-parallel-item::before {content: \"\";position: absolute;border-left: 1px solid gray;box-sizing: border-box;top: 0;bottom: 0;left: 50%;z-index: -1;}#sk-container-id-57 div.sk-parallel-item {display: flex;flex-direction: column;z-index: 1;position: relative;background-color: white;}#sk-container-id-57 div.sk-parallel-item:first-child::after {align-self: flex-end;width: 50%;}#sk-container-id-57 div.sk-parallel-item:last-child::after {align-self: flex-start;width: 50%;}#sk-container-id-57 div.sk-parallel-item:only-child::after {width: 0;}#sk-container-id-57 div.sk-dashed-wrapped {border: 1px dashed gray;margin: 0 0.4em 0.5em 0.4em;box-sizing: border-box;padding-bottom: 0.4em;background-color: white;}#sk-container-id-57 div.sk-label label {font-family: monospace;font-weight: bold;display: inline-block;line-height: 1.2em;}#sk-container-id-57 div.sk-label-container {text-align: center;}#sk-container-id-57 div.sk-container {/* jupyter's `normalize.less` sets `[hidden] { display: none; }` but bootstrap.min.css set `[hidden] { display: none !important; }` so we also need the `!important` here to be able to override the default hidden behavior on the sphinx rendered scikit-learn.org. See: https://github.com/scikit-learn/scikit-learn/issues/21755 */display: inline-block !important;position: relative;}#sk-container-id-57 div.sk-text-repr-fallback {display: none;}</style><div id=\"sk-container-id-57\" class=\"sk-top-container\"><div class=\"sk-text-repr-fallback\"><pre>SVC()</pre><b>In a Jupyter environment, please rerun this cell to show the HTML representation or trust the notebook. <br />On GitHub, the HTML representation is unable to render, please try loading this page with nbviewer.org.</b></div><div class=\"sk-container\" hidden><div class=\"sk-item\"><div class=\"sk-estimator sk-toggleable\"><input class=\"sk-toggleable__control sk-hidden--visually\" id=\"sk-estimator-id-57\" type=\"checkbox\" checked><label for=\"sk-estimator-id-57\" class=\"sk-toggleable__label sk-toggleable__label-arrow\">SVC</label><div class=\"sk-toggleable__content\"><pre>SVC()</pre></div></div></div></div></div>"
      ],
      "text/plain": [
       "SVC()"
      ]
     },
     "execution_count": 651,
     "metadata": {},
     "output_type": "execute_result"
    }
   ],
   "source": [
    "classifier.fit(X_train, y_train)\n"
   ]
  },
  {
   "cell_type": "code",
   "execution_count": 652,
   "id": "7a27f662",
   "metadata": {},
   "outputs": [],
   "source": [
    "X_train_prediction=classifier.predict(X_train)\n",
    "training_data_accuracy=accuracy_score(X_train_prediction, y_train)\n"
   ]
  },
  {
   "cell_type": "code",
   "execution_count": 653,
   "id": "6ff1c5e6",
   "metadata": {},
   "outputs": [
    {
     "name": "stdout",
     "output_type": "stream",
     "text": [
      "Accuracy on training data 0.9781818181818182\n"
     ]
    }
   ],
   "source": [
    "print(\"Accuracy on training data\",training_data_accuracy)"
   ]
  },
  {
   "cell_type": "code",
   "execution_count": 654,
   "id": "260f9537",
   "metadata": {},
   "outputs": [],
   "source": [
    "X_test_prediction=classifier.predict(X_test)\n",
    "test_data_accuracy=accuracy_score(X_test_prediction, y_test)"
   ]
  },
  {
   "cell_type": "code",
   "execution_count": 655,
   "id": "dfa20800",
   "metadata": {},
   "outputs": [
    {
     "name": "stdout",
     "output_type": "stream",
     "text": [
      "Accuracy on training data 0.927536231884058\n"
     ]
    }
   ],
   "source": [
    "print(\"Accuracy on training data\",test_data_accuracy)"
   ]
  },
  {
   "cell_type": "code",
   "execution_count": null,
   "id": "ec42326c",
   "metadata": {},
   "outputs": [],
   "source": []
  },
  {
   "cell_type": "code",
   "execution_count": null,
   "id": "afc50ae4",
   "metadata": {},
   "outputs": [],
   "source": []
  }
 ],
 "metadata": {
  "kernelspec": {
   "display_name": "Python 3 (ipykernel)",
   "language": "python",
   "name": "python3"
  },
  "language_info": {
   "codemirror_mode": {
    "name": "ipython",
    "version": 3
   },
   "file_extension": ".py",
   "mimetype": "text/x-python",
   "name": "python",
   "nbconvert_exporter": "python",
   "pygments_lexer": "ipython3",
   "version": "3.10.9"
  }
 },
 "nbformat": 4,
 "nbformat_minor": 5
}
